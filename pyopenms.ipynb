{
 "cells": [
  {
   "cell_type": "markdown",
   "metadata": {},
   "source": [
    "# section 1"
   ]
  },
  {
   "cell_type": "code",
   "execution_count": 17,
   "metadata": {},
   "outputs": [],
   "source": [
    "import pyopenms as ms\n",
    "import math \n",
    "import matplotlib.pyplot as plt "
   ]
  },
  {
   "cell_type": "code",
   "execution_count": 2,
   "metadata": {
    "scrolled": true
   },
   "outputs": [
    {
     "name": "stdout",
     "output_type": "stream",
     "text": [
      "Help on module pyopenms.Constants in pyopenms:\n",
      "\n",
      "NAME\n",
      "    pyopenms.Constants\n",
      "\n",
      "DESCRIPTION\n",
      "    # @brief Mathematical and physical constants namespace.\n",
      "    # \n",
      "    # This namespace contains definitions for some basic mathematical and physical constants.\n",
      "    # All constants are double precision.\n",
      "\n",
      "DATA\n",
      "    AVOGADRO = 6.0221367e+23\n",
      "    BOHR_RADIUS = 5.29177249e-11\n",
      "    BOLTZMANN = 1.380657e-23\n",
      "    C13C12_MASSDIFF_U = 1.0033548378\n",
      "    CAL_PER_JOULE = 0.2390057361376673\n",
      "    DEG_PER_RAD = 57.29577951308232\n",
      "    E = 2.718281828459045\n",
      "    ELECTRON_MASS = 9.1093897e-31\n",
      "    ELECTRON_MASS_U = 0.0005485799042984105\n",
      "    ELEMENTARY_CHARGE = 1.60217738e-19\n",
      "    EPSILON = 1e-06\n",
      "    F = 96485.31200007845\n",
      "    FARADAY = 96485.31200007845\n",
      "    FINE_STRUCTURE_CONSTANT = 0.00729735\n",
      "    FRAGMENT_ANNOTATION_USERPARAM = 'fragment_annotation'\n",
      "    GAS_CONSTANT = 8.314505189811898\n",
      "    GRAVITATIONAL_CONSTANT = 6.67259e-11\n",
      "    JOULE_PER_CAL = 4.184\n",
      "    MM_PER_INCH = 25.4\n",
      "    MOL = 6.0221367e+23\n",
      "    M_PER_FOOT = 3.048\n",
      "    NA = 6.0221367e+23\n",
      "    NEUTRON_MASS = 1.6749286e-27\n",
      "    NEUTRON_MASS_U = 1.00866491566\n",
      "    PI = 3.141592653589793\n",
      "    PLANCK = 6.6260754e-34\n",
      "    PRECURSOR_ERROR_PPM_USERPARAM = 'precursor_mz_error_ppm'\n",
      "    PROTON_MASS = 1.672623e-27\n",
      "    PROTON_MASS_U = 1.007276466771\n",
      "    R = 8.314505189811898\n",
      "    RAD_PER_DEG = 0.017453292519943295\n",
      "    SPEED_OF_LIGHT = 299792458.0\n",
      "    VACUUM_PERMEABILITY = 1.2566370614359173e-06\n",
      "    VACUUM_PERMITTIVITY = 8.85419e-12\n",
      "    a0 = 5.29177249e-11\n",
      "    c = 299792458.0\n",
      "    e0 = 1.60217738e-19\n",
      "    h = 6.6260754e-34\n",
      "    k = 1.380657e-23\n",
      "\n",
      "FILE\n",
      "    e:\\anaconda\\lib\\site-packages\\pyopenms\\constants.py\n",
      "\n",
      "\n"
     ]
    }
   ],
   "source": [
    "help(ms.Constants)"
   ]
  },
  {
   "cell_type": "code",
   "execution_count": 3,
   "metadata": {},
   "outputs": [
    {
     "name": "stdout",
     "output_type": "stream",
     "text": [
      "avogadro is  6.0221367e+23\n"
     ]
    }
   ],
   "source": [
    "print('avogadro is ', ms.Constants.AVOGADRO)"
   ]
  },
  {
   "cell_type": "code",
   "execution_count": 4,
   "metadata": {},
   "outputs": [
    {
     "name": "stdout",
     "output_type": "stream",
     "text": [
      "electron mass is  9.1093897e-31\n"
     ]
    }
   ],
   "source": [
    "print('electron mass is ',ms.Constants.ELECTRON_MASS)"
   ]
  },
  {
   "cell_type": "code",
   "execution_count": 5,
   "metadata": {},
   "outputs": [],
   "source": [
    "edb=ms.ElementDB()"
   ]
  },
  {
   "cell_type": "code",
   "execution_count": 6,
   "metadata": {},
   "outputs": [
    {
     "data": {
      "text/plain": [
       "True"
      ]
     },
     "execution_count": 6,
     "metadata": {},
     "output_type": "execute_result"
    }
   ],
   "source": [
    "edb.hasElement('Cl')"
   ]
  },
  {
   "cell_type": "code",
   "execution_count": 7,
   "metadata": {},
   "outputs": [
    {
     "data": {
      "text/plain": [
       "True"
      ]
     },
     "execution_count": 7,
     "metadata": {},
     "output_type": "execute_result"
    }
   ],
   "source": [
    "edb.hasElement('Na')"
   ]
  },
  {
   "cell_type": "code",
   "execution_count": 8,
   "metadata": {},
   "outputs": [
    {
     "name": "stdout",
     "output_type": "stream",
     "text": [
      "Carbon\n",
      "C\n",
      "12.0\n",
      "12.0107358985\n",
      "one mol of carbon weights 12.010736 gram\n",
      "one mol of 12C weights 12.000000 gram\n"
     ]
    }
   ],
   "source": [
    "carbon=edb.getElement('C')\n",
    "print(carbon.getName())\n",
    "print(carbon.getSymbol())\n",
    "print(carbon.getMonoWeight())\n",
    "print(carbon.getAverageWeight())\n",
    "isotopes_C=carbon.getIsotopeDistribution()\n",
    "print('one mol of carbon weights %f gram' % carbon.getAverageWeight())\n",
    "print('one mol of 12C weights %f gram' % carbon.getMonoWeight())"
   ]
  },
  {
   "cell_type": "code",
   "execution_count": 9,
   "metadata": {},
   "outputs": [
    {
     "name": "stdout",
     "output_type": "stream",
     "text": [
      "True\n"
     ]
    }
   ],
   "source": [
    "print(edb.hasElement('O'))\n",
    "oxgyen=edb.getElement('O')\n",
    "isotopes_O=oxgyen.getIsotopeDistribution()"
   ]
  },
  {
   "cell_type": "code",
   "execution_count": 10,
   "metadata": {},
   "outputs": [
    {
     "name": "stdout",
     "output_type": "stream",
     "text": [
      "True\n"
     ]
    }
   ],
   "source": [
    "print(edb.hasElement('S'))\n",
    "surfur=edb.getElement('S')\n",
    "isotopes_S=surfur.getIsotopeDistribution()"
   ]
  },
  {
   "cell_type": "code",
   "execution_count": 11,
   "metadata": {},
   "outputs": [
    {
     "name": "stdout",
     "output_type": "stream",
     "text": [
      "mass of O is  [15.994915, 16.999132, 17.999169]\n",
      "abundance of O is  [99.75699782371521, 0.03800000122282654, 0.20500000100582838]\n"
     ]
    }
   ],
   "source": [
    "oxgyen_Dist={'mass':[], 'abundance':[]}\n",
    "for iso in isotopes_O.getContainer():\n",
    "    oxgyen_Dist['mass'].append(iso.getMZ())\n",
    "    oxgyen_Dist['abundance'].append(iso.getIntensity()*100)\n",
    "print('mass of O is ',oxgyen_Dist['mass'])\n",
    "print('abundance of O is ', oxgyen_Dist['abundance'])"
   ]
  },
  {
   "cell_type": "code",
   "execution_count": 12,
   "metadata": {},
   "outputs": [
    {
     "name": "stdout",
     "output_type": "stream",
     "text": [
      "mass of S is  [31.97207073, 32.971458, 33.967867, 35.967081]\n",
      "abundance of S is  [94.92999911308289, 0.7600000128149986, 4.2899999767541885, 0.019999999494757503]\n"
     ]
    }
   ],
   "source": [
    "surfur_Dist={'mass':[], 'abundance':[]}\n",
    "for iso in isotopes_S.getContainer():\n",
    "    surfur_Dist['mass'].append(iso.getMZ())\n",
    "    surfur_Dist['abundance'].append(iso.getIntensity()*100)\n",
    "print('mass of S is ',surfur_Dist['mass'])\n",
    "print('abundance of S is ', surfur_Dist['abundance'])"
   ]
  },
  {
   "cell_type": "code",
   "execution_count": 13,
   "metadata": {},
   "outputs": [
    {
     "name": "stdout",
     "output_type": "stream",
     "text": [
      "mass of C is  [12.0, 13.003355]\n",
      "abundance of C is  [98.9300012588501, 1.0700000450015068]\n"
     ]
    }
   ],
   "source": [
    "carbon_Dist={'mass':[], 'abundance':[]}\n",
    "for iso in isotopes_C.getContainer():\n",
    "    carbon_Dist['mass'].append(iso.getMZ())\n",
    "    carbon_Dist['abundance'].append(iso.getIntensity()*100)\n",
    "print('mass of C is ',carbon_Dist['mass'])\n",
    "print('abundance of C is ', carbon_Dist['abundance'])"
   ]
  },
  {
   "cell_type": "code",
   "execution_count": 14,
   "metadata": {},
   "outputs": [
    {
     "name": "stdout",
     "output_type": "stream",
     "text": [
      "different_isotope_carbon=  1.0033550000000009\n",
      "different_isotope_surfur=  0.9993872699999997\n",
      "relative deviation=  0.3954462777383045\n"
     ]
    }
   ],
   "source": [
    "iso_C=isotopes_C.getContainer()\n",
    "different_isotope_carbon=iso_C[1].getMZ() - iso_C[0].getMZ()\n",
    "iso_S=isotopes_S.getContainer()\n",
    "different_isotope_surfur=iso_S[1].getMZ() - iso_S[0].getMZ()\n",
    "print('different_isotope_carbon= ',different_isotope_carbon)\n",
    "print('different_isotope_surfur= ',different_isotope_surfur)\n",
    "print('relative deviation= ',100*(different_isotope_carbon-different_isotope_surfur)/different_isotope_carbon)"
   ]
  },
  {
   "cell_type": "markdown",
   "metadata": {},
   "source": [
    "This difference can actually be measured by `a high resolution mass spectrometric instrument` and is used in `the tandem mass tag (TMT)` labelling strategy."
   ]
  },
  {
   "cell_type": "code",
   "execution_count": 38,
   "metadata": {},
   "outputs": [
    {
     "data": {
      "image/png": "[encoded data removed]",
      "text/plain": [
       "<Figure size 720x504 with 3 Axes>"
      ]
     },
     "metadata": {
      "needs_background": "light"
     },
     "output_type": "display_data"
    }
   ],
   "source": [
    "# very simple overlappping correction of annotations\n",
    "def adjustText(x1, y1, x2, y2):\n",
    "    if y1 > y2:\n",
    "        plt.annotate('%0.3f' % (y2), xy=(x2, y2), xytext=(x2+0.5,y2+9),\n",
    "                     textcoords='data',\n",
    "                     arrowprops=dict(arrowstyle=\"->\", color='r', lw=0.5),\n",
    "                     horizontalalignment='right', verticalalignment='top')\n",
    "    else:\n",
    "        plt.annotate('%0.3f' % (y1), xy=(x1, y1), xytext=(x1+0.5,y1+9),\n",
    "                     textcoords='data',\n",
    "                     arrowprops=dict(arrowstyle=\"->\", color='r', lw=0.5),\n",
    "                     horizontalalignment='right', verticalalignment='top')\n",
    "\n",
    "\n",
    "def plotDistribution(distribution):\n",
    "    n = len(distribution[\"mass\"])\n",
    "    for i in range(0, n):\n",
    "        plt.vlines(x=distribution[\"mass\"][i], ymin=0, ymax=distribution[\"abundance\"][i])\n",
    "        if int(distribution[\"mass\"][i - 1]) == int(distribution[\"mass\"][i]) \\\n",
    "                and i != 0:\n",
    "            adjustText(distribution[\"mass\"][i - 1], distribution[\"abundance\"][i - 1],\n",
    "                       distribution[\"mass\"][i], distribution[\"abundance\"][i])\n",
    "        else:\n",
    "            plt.text(x=distribution[\"mass\"][i],\n",
    "                     y=(distribution[\"abundance\"][i] + 2),\n",
    "                     s='%0.3f' % (distribution[\"abundance\"][i]), va='center',\n",
    "                     ha='center')\n",
    "    plt.ylim([0, 110])\n",
    "    plt.xticks(range(math.ceil(distribution[\"mass\"][0]) - 2,\n",
    "                     math.ceil(distribution[\"mass\"][-1]) + 2))\n",
    "\n",
    "\n",
    "plt.figure(figsize=(10,7))\n",
    "\n",
    "plt.subplot(1,3,1)\n",
    "plt.title(\"Isotopic distribution of oxygen\")\n",
    "plotDistribution(oxgyen_Dist)\n",
    "plt.xlabel(\"Atomic mass (u)\")\n",
    "plt.ylabel(\"Relative abundance (%)\")\n",
    "\n",
    "plt.subplot(1,3,2)\n",
    "plt.title(\"Isotopic distribution of sulfur\")\n",
    "plotDistribution(surfur_Dist)\n",
    "plt.xlabel(\"Atomic mass (u)\")\n",
    "plt.ylabel(\"Relative abundance (%)\")\n",
    "\n",
    "plt.subplot(1,3,3)\n",
    "plt.title(\"Isotopic distribution of sulfur\")\n",
    "plotDistribution(carbon_Dist)\n",
    "plt.xlabel(\"Atomic mass (u)\")\n",
    "plt.ylabel(\"Relative abundance (%)\")\n",
    "\n",
    "plt.show()"
   ]
  },
  {
   "cell_type": "code",
   "execution_count": 15,
   "metadata": {},
   "outputs": [
    {
     "name": "stdout",
     "output_type": "stream",
     "text": [
      "Sum of masses of 2 protons, neutrons and electrons: 4.032979924670597\n",
      "Mass of He4: 4.00260325415\n",
      "different of masses=  0.7532065888743016\n"
     ]
    }
   ],
   "source": [
    "#For the same reason, the helium atom has a slightly lower mass than the mass of its constituent particles\n",
    "#(two protons, two neutrons and two electrons)\n",
    "helium=edb.getElement('He')\n",
    "isotopes_He= helium.getIsotopeDistribution()\n",
    "mass_sum =2*ms.Constants.PROTON_MASS_U+ 2*ms.Constants.ELECTRON_MASS_U+2*ms.Constants.NEUTRON_MASS_U\n",
    "helium4=isotopes_He.getContainer()[1].getMZ()\n",
    "print (\"Sum of masses of 2 protons, neutrons and electrons:\", mass_sum)\n",
    "print (\"Mass of He4:\", helium4)\n",
    "print('different of masses= ',100*(mass_sum-helium4)/mass_sum)"
   ]
  },
  {
   "cell_type": "markdown",
   "metadata": {},
   "source": [
    "### Molecular Formulae"
   ]
  },
  {
   "cell_type": "code",
   "execution_count": 16,
   "metadata": {},
   "outputs": [
    {
     "name": "stdout",
     "output_type": "stream",
     "text": [
      "Cl1H2Na1O1\n",
      "{b'Cl': 1, b'H': 2, b'Na': 1, b'O': 1}\n",
      "2 hydrogen atom\n"
     ]
    }
   ],
   "source": [
    "sadum= ms.EmpiricalFormula('NaOH')\n",
    "colar= ms.EmpiricalFormula('HCl')\n",
    "salt= sadum+colar\n",
    "print(salt.toString())\n",
    "print(salt.getElementalComposition())\n",
    "print(salt.getElementalComposition()[b'H'],'hydrogen atom')"
   ]
  },
  {
   "cell_type": "code",
   "execution_count": 44,
   "metadata": {
    "scrolled": true
   },
   "outputs": [
    {
     "name": "stdout",
     "output_type": "stream",
     "text": [
      "coarse isotope distribution: \n",
      "this covers 1.000000014755642 probability\n",
      "isotope 46.0418651914 has bundance 97.56630063056946 %\n",
      "isotope 47.045220029199996 has bundance 2.21499539911747 %\n",
      "isotope 48.048574867 has bundance 0.2142168115824461 %\n",
      "isotope 49.0519297048 has bundance 0.004488634294830263 %\n",
      "find iostopes distribution :\n",
      "this covers 0.9994461630121805 probability\n",
      "isotope 46.0418651914 has bundance 97.5662887096405 %\n",
      "isotope 47.0452201914 has bundance 2.110501006245613 %\n",
      "isotope 47.0481419395 has bundance 0.06732848123647273 %\n",
      "isotope 48.046119191399995 has bundance 0.20049810409545898 %\n"
     ]
    }
   ],
   "source": [
    "methanol = ms.EmpiricalFormula('CH3OH')\n",
    "ethanol = ms.EmpiricalFormula('CH2')+methanol\n",
    "methanol_isoDist={'mass':[],'abundance':[]}\n",
    "ethanol_isoDist={'mass':[],'abundance':[]}\n",
    "# CoarseIsotopePatternGenerator which produces unit mass isotope patterns\n",
    "print('coarse isotope distribution: ')\n",
    "isotopes=ethanol.getIsotopeDistribution(ms.CoarseIsotopePatternGenerator(4))\n",
    "prop_sum= sum([iso.getIntensity() for iso in isotopes.getContainer()])\n",
    "print('this covers' ,prop_sum,'probability')\n",
    "for iso in isotopes.getContainer():\n",
    "    print('isotope',iso.getMZ(),'has bundance',iso.getIntensity()*100,'%')\n",
    "    ethanol_isoDist['mass'].append(iso.getMZ())\n",
    "    ethanol_isoDist['abundance'].append(iso.getIntensity()*100)\n",
    "\n",
    "# FineIsotopePatternGenerator which is based on the IsoSpec algorithm \n",
    "print('find iostopes distribution :')\n",
    "isotopes=ethanol.getIsotopeDistribution(ms.FineIsotopePatternGenerator(1e-3))\n",
    "prop_sum1= sum([iso.getIntensity() for iso in isotopes.getContainer()])\n",
    "print('this covers' ,prop_sum1,'probability')\n",
    "for iso in isotopes.getContainer():\n",
    "    print('isotope',iso.getMZ(),'has bundance',iso.getIntensity()*100,'%')\n",
    "    ethanol_isoDist['mass'].append(iso.getMZ())\n",
    "    ethanol_isoDist['abundance'].append(iso.getIntensity()*100)"
   ]
  },
  {
   "cell_type": "code",
   "execution_count": 45,
   "metadata": {},
   "outputs": [
    {
     "data": {
      "image/png": "[encoded data removed]",
      "text/plain": [
       "<Figure size 720x504 with 2 Axes>"
      ]
     },
     "metadata": {
      "needs_background": "light"
     },
     "output_type": "display_data"
    }
   ],
   "source": [
    "plt.figure(figsize=(10,7))\n",
    "plt.subplot(1,2,1)\n",
    "plt.title('isotope distribution for ethanol')\n",
    "plotDistribution(ethanol_isoDist)\n",
    "plt.xlabel('Atomic mass (u)')\n",
    "plt.ylabel('Relative abundance (%)')\n",
    "plt.subplot(1,2,2)\n",
    "plt.title('isotope distribution for ethanol')\n",
    "plotDistribution(ethanol_isoDist)\n",
    "plt.xlabel('Atomic mass (u)')\n",
    "plt.ylabel('Relative abundance (%)')\n",
    "\n",
    "plt.savefig('isotope_distribution_for_ethanol.png')"
   ]
  },
  {
   "cell_type": "code",
   "execution_count": 46,
   "metadata": {},
   "outputs": [
    {
     "name": "stdout",
     "output_type": "stream",
     "text": [
      "find iostopes distribution :\n",
      "this covers 0.9999993089130612 probability\n",
      "isotope 46.0418651914 has bundance 97.5662887096405 %\n",
      "isotope 47.0452201914 has bundance 2.110501006245613 %\n",
      "isotope 47.046082191400004 has bundance 0.03716550418175757 %\n",
      "isotope 47.0481419395 has bundance 0.06732848123647273 %\n",
      "isotope 48.046119191399995 has bundance 0.20049810409545898 %\n",
      "isotope 48.0485751914 has bundance 0.011413302854634821 %\n",
      "isotope 48.0494371914 has bundance 0.0008039440217544325 %\n",
      "isotope 48.0514969395 has bundance 0.0014564131561201066 %\n",
      "isotope 49.049474191399995 has bundance 0.004337066275184043 %\n",
      "isotope 49.0523959395 has bundance 0.00013835959862262825 %\n"
     ]
    }
   ],
   "source": [
    "# FineIsotopePatternGenerator which is based on the IsoSpec algorithm \n",
    "print('find iostopes distribution :')\n",
    "# decrease our cutoff and ask for more isotopes to be calculated\n",
    "isotopes=ethanol.getIsotopeDistribution(ms.FineIsotopePatternGenerator(1e-6))\n",
    "prop_sum1= sum([iso.getIntensity() for iso in isotopes.getContainer()])\n",
    "print('this covers' ,prop_sum1,'probability')\n",
    "for iso in isotopes.getContainer():\n",
    "    print('isotope',iso.getMZ(),'has bundance',iso.getIntensity()*100,'%')\n",
    "    ethanol_isoDist['mass'].append(iso.getMZ())\n",
    "    ethanol_isoDist['abundance'].append(iso.getIntensity()*100)"
   ]
  },
  {
   "cell_type": "code",
   "execution_count": 47,
   "metadata": {},
   "outputs": [
    {
     "name": "stdout",
     "output_type": "stream",
     "text": [
      "coarse isotope distribution: \n",
      "this covers 0.9999999753596569 probability\n",
      "isotope 46.0 has bundance 97.56627082824707 %\n",
      "isotope 47.0 has bundance 2.214994840323925 %\n",
      "isotope 48.0 has bundance 0.214216741733253 %\n",
      "isotope 49.0 has bundance 0.0044886332034366205 %\n",
      "isotope 50.0 has bundance 2.64924580051229e-05 %\n"
     ]
    }
   ],
   "source": [
    "print('coarse isotope distribution: ')\n",
    "isotopes=ethanol.getIsotopeDistribution(ms.CoarseIsotopePatternGenerator(5,True))\n",
    "prop_sum= sum([iso.getIntensity() for iso in isotopes.getContainer()])\n",
    "print('this covers' ,prop_sum,'probability')\n",
    "for iso in isotopes.getContainer():\n",
    "    print('isotope',iso.getMZ(),'has bundance',iso.getIntensity()*100,'%')\n",
    "    ethanol_isoDist['mass'].append(iso.getMZ())\n",
    "    ethanol_isoDist['abundance'].append(iso.getIntensity()*100)"
   ]
  },
  {
   "cell_type": "markdown",
   "metadata": {},
   "source": [
    "## Amino acid "
   ]
  },
  {
   "cell_type": "code",
   "execution_count": 55,
   "metadata": {},
   "outputs": [
    {
     "name": "stdout",
     "output_type": "stream",
     "text": [
      "Lysine\n",
      "Lys\n",
      "K\n",
      "146.18788276708443\n",
      "146.1055284466\n",
      "2.16\n",
      "C6H14N2O2\n"
     ]
    }
   ],
   "source": [
    "lys=ms.ResidueDB().getResidue(\"Lysine\")\n",
    "print(lys.getName())\n",
    "print(lys.getThreeLetterCode())\n",
    "print(lys.getOneLetterCode())\n",
    "print(lys.getAverageWeight())\n",
    "print(lys.getMonoWeight())\n",
    "print(lys.getPka())\n",
    "print(lys.getFormula().toString())"
   ]
  },
  {
   "cell_type": "code",
   "execution_count": 60,
   "metadata": {
    "scrolled": true
   },
   "outputs": [
    {
     "name": "stdout",
     "output_type": "stream",
     "text": [
      "UniMod:35\n",
      "35\n",
      "15.994915\n",
      "Oxidation\n",
      "Oxidation (Y)\n",
      "Oxidation or Hydroxylation\n",
      "O1\n"
     ]
    }
   ],
   "source": [
    "ox=ms.ModificationsDB().getModification('Oxidation')\n",
    "print(ox.getUniModAccession())\n",
    "print(ox.getUniModRecordId())\n",
    "print(ox.getDiffMonoMass())\n",
    "print(ox.getId())\n",
    "print(ox.getFullId())\n",
    "print(ox.getFullName())\n",
    "print(ox.getDiffFormula())"
   ]
  },
  {
   "cell_type": "code",
   "execution_count": 67,
   "metadata": {},
   "outputs": [
    {
     "name": "stdout",
     "output_type": "stream",
     "text": [
      "15.994915 : 0.9975699782371521\n",
      "16.998269837800002 : 0.0003800000122282654\n",
      "18.0016246756 : 0.002050000010058284\n"
     ]
    }
   ],
   "source": [
    "isotopes=ox.getDiffFormula().getIsotopeDistribution(ms.CoarseIsotopePatternGenerator(5))\n",
    "for iso in isotopes.getContainer():\n",
    "    print(iso.getMZ(),\":\",iso.getIntensity())"
   ]
  },
  {
   "cell_type": "markdown",
   "metadata": {},
   "source": [
    "## RiboNucleotide"
   ]
  },
  {
   "cell_type": "code",
   "execution_count": 70,
   "metadata": {},
   "outputs": [
    {
     "name": "stdout",
     "output_type": "stream",
     "text": [
      "uridine\n",
      "U\n",
      "244.2043\n",
      "244.0695\n",
      "C9H12N2O6\n",
      "False\n",
      "1-methyladenosine\n",
      "True\n"
     ]
    }
   ],
   "source": [
    "uridine=ms.RibonucleotideDB().getRibonucleotide(b\"U\")\n",
    "print(uridine.getName())\n",
    "print(uridine.getCode())\n",
    "print(uridine.getAvgMass())\n",
    "print(uridine.getMonoMass())\n",
    "print(uridine.getFormula().toString())\n",
    "print(uridine.isModified())\n",
    "methyladenosine=ms.RibonucleotideDB().getRibonucleotide(b\"m1A\")\n",
    "print(methyladenosine.getName())\n",
    "print(methyladenosine.isModified())"
   ]
  },
  {
   "cell_type": "markdown",
   "metadata": {},
   "source": [
    "# section3"
   ]
  },
  {
   "cell_type": "markdown",
   "metadata": {},
   "source": [
    "## Amino Acid Sequences"
   ]
  },
  {
   "cell_type": "code",
   "execution_count": 77,
   "metadata": {},
   "outputs": [
    {
     "name": "stdout",
     "output_type": "stream",
     "text": [
      "seq : DFPIANGER\n",
      "prefix:  DFPI\n",
      "suffix:  ANGER\n",
      "concatenated:  DFPIANGERDFPIANGER\n",
      "\n",
      "monoisotope mass of peptide [M] is  1017.4879641373001\n",
      "monoisotope mass of peptide precursor [M+2H]2+ is  1019.5025170708421\n",
      "monoisotope m/z of [M+2H]2+ is  509.7512585354211\n"
     ]
    }
   ],
   "source": [
    "# create AAsequence object from string \n",
    "seq=ms.AASequence.fromString('DFPIANGER')\n",
    "prefix=seq.getPrefix(4)\n",
    "suffix=seq.getSuffix(5)\n",
    "concat=seq+seq\n",
    "print(\"seq :\", seq)\n",
    "print(\"prefix: \",prefix)\n",
    "print(\"suffix: \",suffix)\n",
    "print(\"concatenated: \",concat)\n",
    "mwfull=seq.getMonoWeight()\n",
    "mprecursor= seq.getMonoWeight(ms.Residue.ResidueType.Full,2)\n",
    "# we can calculate mass-over-charge manually\n",
    "mz=seq.getMonoWeight(ms.Residue.ResidueType.Full,2)\n",
    "# or simply by\n",
    "mz=seq.getMZ(2)\n",
    "print()\n",
    "print('monoisotope mass of peptide [M] is ', mwfull)\n",
    "print('monoisotope mass of peptide precursor [M+2H]2+ is ',mprecursor)\n",
    "print('monoisotope m/z of [M+2H]2+ is ', mz)"
   ]
  },
  {
   "cell_type": "code",
   "execution_count": 78,
   "metadata": {},
   "outputs": [
    {
     "name": "stdout",
     "output_type": "stream",
     "text": [
      "the peptide  DFPIANGER consist of the following amino acids\n",
      "Aspartate : 133.0375092233\n",
      "Phenylalanine : 165.07897935090003\n",
      "Proline : 115.06332928709999\n",
      "Isoleucine : 131.0946294147\n",
      "Alanine : 89.0476792233\n",
      "Asparagine : 132.0534932552\n",
      "Glycine : 75.0320291595\n",
      "Glutamate : 147.0531592871\n",
      "Arginine : 174.1116764466\n"
     ]
    }
   ],
   "source": [
    "print('the peptide ', str(seq),\"consist of the following amino acids\")\n",
    "for aa in seq:\n",
    "    print(aa.getName() ,\":\",aa.getMonoWeight())"
   ]
  },
  {
   "cell_type": "code",
   "execution_count": 87,
   "metadata": {},
   "outputs": [
    {
     "name": "stdout",
     "output_type": "stream",
     "text": [
      "NTerminalModification Pyro-carbamidomethyl (N-term C)\n",
      "Aspartate : 133.0375092233\n",
      "Phenylalanine : 165.07897935090003\n",
      "Proline : 115.06332928709999\n",
      "Isoleucine : 131.0946294147\n",
      "Alanine : 89.0476792233\n",
      "Asparagine : 132.0534932552\n",
      "Glycine : 75.0320291595\n",
      "Glutamate : 147.0531592871\n",
      "Arginine : 174.1116764466\n"
     ]
    }
   ],
   "source": [
    "my_seq=ms.AASequence.fromString(\"C[143]PKCK(Label:13C(6)15N(2))CR\")\n",
    "if my_seq.hasNTerminalModification():\n",
    "    print('NTerminalModification',my_seq.getNTerminalModification().getFullId())\n",
    "if my_seq.hasCTerminalModification():\n",
    "    print('CTerminalModification()',my_seq.getCTerminalModification().getFullId())\n",
    "for aa in seq:\n",
    "    if (aa.isModified()):\n",
    "        print(aa.getName(),\":\",aa.getMonoWeight(),\":\",aa.getModificationName())\n",
    "    else:\n",
    "        print(aa.getName(),\":\",aa.getMonoWeight())"
   ]
  },
  {
   "cell_type": "code",
   "execution_count": 88,
   "metadata": {},
   "outputs": [
    {
     "name": "stdout",
     "output_type": "stream",
     "text": [
      "peptide DFPIANGER has molecular formula: C44H67N13O15\n"
     ]
    }
   ],
   "source": [
    "# Molecular formula\n",
    "seq_formula=seq.getFormula()\n",
    "print(f'peptide {seq} has molecular formula: {seq_formula}')"
   ]
  },
  {
   "cell_type": "markdown",
   "metadata": {},
   "source": [
    "## Isotope patterns"
   ]
  },
  {
   "cell_type": "code",
   "execution_count": 94,
   "metadata": {},
   "outputs": [
    {
     "name": "stdout",
     "output_type": "stream",
     "text": [
      "isotope 1017.4879641373001 has abundance 56.8165123462677%\n",
      "isotope 1018.4913189751001 has abundance 30.52913248538971%\n",
      "isotope 1019.4946738129 has abundance 9.802104532718658%\n",
      "isotope 1020.4980286507001 has abundance 2.3292062804102898%\n",
      "isotope 1021.5013834885001 has abundance 0.4492596257477999%\n",
      "isotope 1022.5047383263001 has abundance 0.07378293084912002%\n"
     ]
    }
   ],
   "source": [
    "# coarse isotope distribution \n",
    "coarse_isotope=seq_formula.getIsotopeDistribution(ms.CoarseIsotopePatternGenerator(6))\n",
    "for iso in coarse_isotope.getContainer():\n",
    "    print(f\"isotope {iso.getMZ()} has abundance {iso.getIntensity()*100}%\")"
   ]
  },
  {
   "cell_type": "code",
   "execution_count": 95,
   "metadata": {},
   "outputs": [
    {
     "name": "stdout",
     "output_type": "stream",
     "text": [
      "isotope 1017.4879641373001 has abundance 56.80969953536987%\n",
      "isotope 1018.4849991373001 has abundance 2.7278145775198936%\n",
      "isotope 1018.4913191373001 has abundance 27.035287022590637%\n",
      "isotope 1018.4921811373001 has abundance 0.3246041014790535%\n",
      "isotope 1018.4942408854 has abundance 0.4377691075205803%\n",
      "isotope 1019.4883541373001 has abundance 1.2981452979147434%\n",
      "isotope 1019.4922181373001 has abundance 1.7511537298560143%\n",
      "isotope 1019.4946741373 has abundance 6.286735832691193%\n",
      "isotope 1019.4975958854001 has abundance 0.2083308296278119%\n",
      "isotope 1020.4917091373001 has abundance 0.3018683288246393%\n",
      "isotope 1020.4955731373002 has abundance 0.833360105752945%\n",
      "isotope 1020.4980291373 has abundance 0.9519387967884541%\n",
      "isotope 1021.4989281373 has abundance 0.1937880413606763%\n"
     ]
    }
   ],
   "source": [
    "# fine isotope distribution \n",
    "fine_isotope=seq_formula.getIsotopeDistribution(ms.FineIsotopePatternGenerator(0.01))\n",
    "for iso in fine_isotope.getContainer():\n",
    "    print(f\"isotope {iso.getMZ()} has abundance {iso.getIntensity()*100}%\")"
   ]
  },
  {
   "cell_type": "code",
   "execution_count": 99,
   "metadata": {},
   "outputs": [
    {
     "name": "stdout",
     "output_type": "stream",
     "text": [
      "isotope 1017.4879641373001 has bundance 56.8165123462677 %\n",
      "isotope 1018.4913189751001 has bundance 30.52913248538971 %\n",
      "isotope 1019.4946738129 has bundance 9.802104532718658 %\n",
      "isotope 1020.4980286507001 has bundance 2.3292062804102898 %\n",
      "isotope 1021.5013834885001 has bundance 0.4492596257477999 %\n",
      "isotope 1022.5047383263001 has bundance 0.07378293084912002 %\n",
      "isotope 1017.4879641373001 has bundance 56.80969953536987 %\n",
      "isotope 1018.4849991373001 has bundance 2.7278145775198936 %\n",
      "isotope 1018.4913191373001 has bundance 27.035287022590637 %\n",
      "isotope 1018.4921811373001 has bundance 0.3246041014790535 %\n",
      "isotope 1018.4942408854 has bundance 0.4377691075205803 %\n",
      "isotope 1019.4883541373001 has bundance 1.2981452979147434 %\n",
      "isotope 1019.4922181373001 has bundance 1.7511537298560143 %\n",
      "isotope 1019.4946741373 has bundance 6.286735832691193 %\n",
      "isotope 1019.4975958854001 has bundance 0.2083308296278119 %\n",
      "isotope 1020.4917091373001 has bundance 0.3018683288246393 %\n",
      "isotope 1020.4955731373002 has bundance 0.833360105752945 %\n",
      "isotope 1020.4980291373 has bundance 0.9519387967884541 %\n",
      "isotope 1021.4989281373 has bundance 0.1937880413606763 %\n"
     ]
    },
    {
     "data": {
      "image/png": "[encoded data removed]",
      "text/plain": [
       "<Figure size 504x720 with 2 Axes>"
      ]
     },
     "metadata": {
      "needs_background": "light"
     },
     "output_type": "display_data"
    }
   ],
   "source": [
    "def plotplotDistribution(isotope_Distribution,title=\"isotope Distribution\"):\n",
    "    plt.title(title)\n",
    "    distribution={'mass':[],'abundance':[]}\n",
    "    for iso in isotope_Distribution.getContainer():\n",
    "        print('isotope',iso.getMZ(),'has bundance',iso.getIntensity()*100,'%')\n",
    "        distribution['mass'].append(iso.getMZ())\n",
    "        distribution['abundance'].append(iso.getIntensity()*100)\n",
    "    bars=plt.bar( distribution['mass'],distribution['abundance'],width=0.01,snap=False)\n",
    "    plt.ylim([0,110])\n",
    "    plt.xticks(range(math.ceil(distribution['mass'][0])-2,\n",
    "                   math.ceil(distribution['mass'][1])+2))\n",
    "    plt.xlabel('Atomic mass (u)')\n",
    "    plt.ylabel('Relative abundance %')\n",
    "    \n",
    "plt.figure(figsize=(7,10))\n",
    "plt.subplot(121)\n",
    "plotplotDistribution(coarse_isotope,'isotope Distribution coarse')\n",
    "plt.subplot(122)\n",
    "plotplotDistribution(fine_isotope, 'isotope Distribution fine')\n"
   ]
  },
  {
   "cell_type": "markdown",
   "metadata": {},
   "source": [
    "## Fragment ions"
   ]
  },
  {
   "cell_type": "code",
   "execution_count": 103,
   "metadata": {},
   "outputs": [
    {
     "name": "stdout",
     "output_type": "stream",
     "text": [
      "181.09514384957103\n",
      "194.08477631767101\n",
      "172.08986131767102\n",
      "\n",
      "y3 ion sequence GER\n",
      "y3 mz 181.09514384957103\n",
      "y3 molecular formula  C13H24N6O6\n"
     ]
    }
   ],
   "source": [
    "suffix= seq.getSuffix(3)\n",
    "y3_formula= suffix.getFormula(ms.Residue.ResidueType.YIon,2)\n",
    "\n",
    "print(suffix.getMonoWeight(ms.Residue.ResidueType.YIon,2)/2.0)#correct\n",
    "print(suffix.getMonoWeight(ms.Residue.ResidueType.XIon,2)/2.0)#correct\n",
    "print(suffix.getMonoWeight(ms.Residue.ResidueType.BIon,2)/2.0)#incorrect\n",
    "print()\n",
    "print('y3 ion sequence',suffix)\n",
    "print(\"y3 mz\",suffix.getMonoWeight(ms.Residue.ResidueType.YIon,2)/2.0 )\n",
    "print(\"y3 molecular formula \",y3_formula)"
   ]
  },
  {
   "cell_type": "markdown",
   "metadata": {},
   "source": [
    "## Task  different masses"
   ]
  },
  {
   "cell_type": "code",
   "execution_count": 58,
   "metadata": {},
   "outputs": [
    {
     "data": {
      "text/plain": [
       "441.2798662441"
      ]
     },
     "execution_count": 58,
     "metadata": {},
     "output_type": "execute_result"
    }
   ],
   "source": [
    "sum_=0\n",
    "seq = ms.AASequence.fromString(\"VAKA\")\n",
    "for aa in seq:\n",
    "    sum_+=aa.getMonoWeight()\n",
    "sum_"
   ]
  },
  {
   "cell_type": "code",
   "execution_count": 59,
   "metadata": {},
   "outputs": [
    {
     "data": {
      "text/plain": [
       "387.2481710527"
      ]
     },
     "execution_count": 59,
     "metadata": {},
     "output_type": "execute_result"
    }
   ],
   "source": [
    "seq=ms.AASequence.fromString(\"VAKA\")\n",
    "total=seq.getMonoWeight()\n",
    "total"
   ]
  },
  {
   "cell_type": "code",
   "execution_count": 62,
   "metadata": {},
   "outputs": [
    {
     "data": {
      "text/plain": [
       "False"
      ]
     },
     "execution_count": 62,
     "metadata": {},
     "output_type": "execute_result"
    }
   ],
   "source": [
    "total==sum_"
   ]
  },
  {
   "cell_type": "markdown",
   "metadata": {},
   "source": [
    "# section 4"
   ]
  },
  {
   "cell_type": "markdown",
   "metadata": {},
   "source": [
    "## Modified Sequences"
   ]
  },
  {
   "cell_type": "code",
   "execution_count": 105,
   "metadata": {
    "scrolled": true
   },
   "outputs": [
    {
     "name": "stdout",
     "output_type": "stream",
     "text": [
      "PEPTIDESEKUEMCER\n",
      "PEPTIDESEKUEM(Oxidation)CER\n",
      "PEPTIDESEKUEM(UniMod:35)CER\n",
      "PEPTIDESEKUEM[147]CER\n",
      "PEPTIDESEKUEM[147.03540001709996]CER\n",
      "\n",
      "DFPIAM(Oxidation)GER\n",
      "DFPIAM(Oxidation)GER\n",
      "DFPIAM(Oxidation)GER\n",
      "DFPIAM(Oxidation)GER\n",
      "DFPIAM(Oxidation)GER\n"
     ]
    }
   ],
   "source": [
    "seq=ms.AASequence.fromString('PEPTIDESEKUEM(Oxidation)CER')\n",
    "print(seq.toUnmodifiedString())\n",
    "print(seq.toString())\n",
    "print(seq.toUniModString())\n",
    "print(seq.toBracketString())\n",
    "print(seq.toBracketString(False))\n",
    "print()\n",
    "print(ms.AASequence.fromString('DFPIAM(UniMod:35)GER'))\n",
    "print(ms.AASequence.fromString('DFPIAM[+16]GER'))\n",
    "print(ms.AASequence.fromString('DFPIAM[+15.99]GER'))\n",
    "print(ms.AASequence.fromString('DFPIAM[147]GER'))\n",
    "print(ms.AASequence.fromString('DFPIAM[147.035405]GER'))"
   ]
  },
  {
   "cell_type": "code",
   "execution_count": 106,
   "metadata": {},
   "outputs": [
    {
     "name": "stdout",
     "output_type": "stream",
     "text": [
      ".(Dimethyl)DFPIAMGER True\n",
      "DFPIAMGER.(Label:18O(2)) True\n",
      "DFPIAMGER(Phospho) False\n"
     ]
    }
   ],
   "source": [
    "s=ms.AASequence.fromString('.(Dimethyl)DFPIAMGER.')\n",
    "print(s,s.hasNTerminalModification())\n",
    "s=ms.AASequence.fromString('.DFPIAMGER.(Label:18O(2))')\n",
    "print(s,s.hasCTerminalModification())\n",
    "s=ms.AASequence.fromString('.DFPIAMGER(Phospho).')\n",
    "print(s,s.hasCTerminalModification())"
   ]
  },
  {
   "cell_type": "markdown",
   "metadata": {},
   "source": [
    "## Proteins and FASTA files"
   ]
  },
  {
   "cell_type": "code",
   "execution_count": 112,
   "metadata": {},
   "outputs": [],
   "source": [
    "bsa=ms.FASTAEntry()\n",
    "bsa.sequence=\"MKWVTFISLLLLFSSAYSRGVFRRDTHKSEIAHRFKDLGE\"\n",
    "bsa.description =\"BSA Bovine Albumin (partial sequence)\"\n",
    "bsa.identifier=\"BSA\"\n",
    "alb=ms.FASTAEntry()\n",
    "alb.sequence=\"MKWVTFISLLFLFSSAYSRGVFRRDAHKSEVAHRFKDLGE\"\n",
    "alb.description=\"ALB Human Albumin (partial sequence)\"\n",
    "alb.identifier=\"ALB\"\n",
    "entries=[bsa,alb]\n",
    "f=ms.FASTAFile()\n",
    "f.store(\"example.fasta\",entries)"
   ]
  },
  {
   "cell_type": "code",
   "execution_count": 114,
   "metadata": {},
   "outputs": [
    {
     "name": "stdout",
     "output_type": "stream",
     "text": [
      "2\n",
      "BSA MKWVTFISLLLLFSSAYSRGVFRRDTHKSEIAHRFKDLGE\n",
      "ALB MKWVTFISLLFLFSSAYSRGVFRRDAHKSEVAHRFKDLGE\n"
     ]
    }
   ],
   "source": [
    "entries2=[]\n",
    "f=ms.FASTAFile()\n",
    "f.load(\"example.fasta\",entries2)\n",
    "print(len(entries2))\n",
    "for e in entries2:\n",
    "    print(e.identifier,e.sequence)"
   ]
  },
  {
   "cell_type": "markdown",
   "metadata": {},
   "source": [
    "## Task Proteolytic Digestion with Trypsin for Yeast"
   ]
  },
  {
   "cell_type": "code",
   "execution_count": 128,
   "metadata": {},
   "outputs": [
    {
     "name": "stdout",
     "output_type": "stream",
     "text": [
      "MYSWK\n",
      "SK\n",
      "FK\n",
      "FGK\n",
      "SK\n",
      "EEK\n",
      "EAK\n",
      "HSGFFHSSK\n",
      "K\n",
      "EEQQNNQATAGEHDASITR\n",
      "SSLDR\n",
      "K\n",
      "GTINPSNSSVVPVR\n",
      "VSYDASSSTSTVR\n",
      "DSNGGNSENTNSSQNLDETANIGSTGTPNDATSSSGMMTIK\n",
      "VYNGDDFILPFPITSSEQILNK\n",
      "LLASGVPPPHK\n",
      "EISK\n",
      "EVDALIAQLSR\n",
      "VQIK\n",
      "NQGPADEDLISSESAAK\n",
      "FIPSTIMLPGSSTLNPLLYFTIEFDNTVATIEAEYGTIAKPGFNK\n",
      "ISTFDVTR\n",
      "K\n",
      "LPYLK\n",
      "IDVFAR\n",
      "IPSILLPSK\n",
      "TWQQEMGLQDEK\n",
      "LQTIFDK\n",
      "INSNQDIHLDSFHLPINLSFDSAASIR\n",
      "LYNHHWITLDNGLGK\n",
      "INISIDYKPSR\n",
      "NKPLSIDDFDLLK\n",
      "VIGK\n",
      "GSFGK\n",
      "VMQVR\n",
      "K\n",
      "K\n",
      "DTQK\n",
      "VYALK\n",
      "AIR\n",
      "K\n",
      "SYIVSK\n",
      "SEVTHTLAER\n",
      "TVLAR\n",
      "VDCPFIVPLK\n",
      "FSFQSPEK\n",
      "LYFVLAFINGGELFYHLQK\n",
      "EGR\n",
      "FDLSR\n",
      "AR\n",
      "FYTAELLCALDNLHK\n",
      "LDVVYR\n",
      "DLKPENILLDYQGHIALCDFGLCK\n",
      "LNMK\n",
      "DDDK\n",
      "TDTFCGTPEYLAPELLLGLGYTK\n",
      "AVDWWTLGVLLYEMLTGLPPYYDEDVPK\n",
      "MYK\n",
      "K\n",
      "ILQEPLVFPDGFDR\n",
      "DAK\n",
      "DLLIGLLSR\n",
      "DPTR\n",
      "R\n",
      "LGYNGADEIR\n",
      "NHPFFSQLSWK\n",
      "R\n",
      "LLMK\n",
      "GYIPPYKPAVSNSMDTSNFDEEFTR\n",
      "EKPIDSVVDEYLSESVQK\n",
      "QFGGWTYVGNEQLGSSMVQGR\n",
      "SIR\n"
     ]
    },
    {
     "data": {
      "text/plain": [
       "73"
      ]
     },
     "execution_count": 128,
     "metadata": {},
     "output_type": "execute_result"
    }
   ],
   "source": [
    "dig = ms.ProteaseDigestion()\n",
    "dig.getEnzymeName()\n",
    "bsa = \"\".join([l.strip() for l in open(\"uniprot-yourlist_M202111205BF3C56A578D7D6DFD1FC81EE5DA77302FCEBC7.fasta\").readlines()[1:]])\n",
    "bsa = ms.AASequence.fromString(bsa)\n",
    "# create all digestion products\n",
    "result = []\n",
    "dig.digest(bsa, result)\n",
    "for s in result:\n",
    "    print(s.toString())\n",
    "len(result) "
   ]
  }
 ],
 "metadata": {
  "kernelspec": {
   "display_name": "Python 3",
   "language": "python",
   "name": "python3"
  },
  "language_info": {
   "codemirror_mode": {
    "name": "ipython",
    "version": 3
   },
   "file_extension": ".py",
   "mimetype": "text/x-python",
   "name": "python",
   "nbconvert_exporter": "python",
   "pygments_lexer": "ipython3",
   "version": "3.8.3"
  }
 },
 "nbformat": 4,
 "nbformat_minor": 4
}
